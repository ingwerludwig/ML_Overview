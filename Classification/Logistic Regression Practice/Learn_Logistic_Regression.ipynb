{
  "nbformat": 4,
  "nbformat_minor": 0,
  "metadata": {
    "colab": {
      "provenance": []
    },
    "kernelspec": {
      "name": "python3",
      "display_name": "Python 3"
    },
    "language_info": {
      "name": "python"
    }
  },
  "cells": [
    {
      "cell_type": "markdown",
      "source": [
        "# Import Library"
      ],
      "metadata": {
        "id": "spL0kMtfHJ-M"
      }
    },
    {
      "cell_type": "code",
      "execution_count": null,
      "metadata": {
        "id": "dMeHVFHQpo2G"
      },
      "outputs": [],
      "source": [
        "import pandas as pd\n",
        "import numpy as np\n",
        "import matplotlib.pyplot as plt\n",
        "import seaborn as sns\n",
        "import warnings\n",
        "warnings.filterwarnings('ignore')\n",
        "pd.set_option('max_rows',None)\n",
        "pd.set_option('max_columns', None)"
      ]
    },
    {
      "cell_type": "markdown",
      "source": [
        "# Import Dataset"
      ],
      "metadata": {
        "id": "-4dhlreiHV7D"
      }
    },
    {
      "cell_type": "code",
      "source": [
        "from google.colab import drive\n",
        "drive.mount('/content/gdrive')\n",
        "df = pd.read_csv('/content/gdrive/My Drive/Salinan Social_Network_Ads.csv')\n",
        "df.head()"
      ],
      "metadata": {
        "id": "Nq1TnJU-HUPR",
        "colab": {
          "base_uri": "https://localhost:8080/",
          "height": 224
        },
        "outputId": "d2f2116a-43d8-40c5-f180-3d87b73e62fb"
      },
      "execution_count": null,
      "outputs": [
        {
          "output_type": "stream",
          "name": "stdout",
          "text": [
            "Mounted at /content/gdrive\n"
          ]
        },
        {
          "output_type": "execute_result",
          "data": {
            "text/plain": [
              "   Age  EstimatedSalary  Purchased\n",
              "0   19            19000          0\n",
              "1   35            20000          0\n",
              "2   26            43000          0\n",
              "3   27            57000          0\n",
              "4   19            76000          0"
            ],
            "text/html": [
              "\n",
              "  <div id=\"df-606343e8-b219-4747-afd4-72071890ec1f\">\n",
              "    <div class=\"colab-df-container\">\n",
              "      <div>\n",
              "<style scoped>\n",
              "    .dataframe tbody tr th:only-of-type {\n",
              "        vertical-align: middle;\n",
              "    }\n",
              "\n",
              "    .dataframe tbody tr th {\n",
              "        vertical-align: top;\n",
              "    }\n",
              "\n",
              "    .dataframe thead th {\n",
              "        text-align: right;\n",
              "    }\n",
              "</style>\n",
              "<table border=\"1\" class=\"dataframe\">\n",
              "  <thead>\n",
              "    <tr style=\"text-align: right;\">\n",
              "      <th></th>\n",
              "      <th>Age</th>\n",
              "      <th>EstimatedSalary</th>\n",
              "      <th>Purchased</th>\n",
              "    </tr>\n",
              "  </thead>\n",
              "  <tbody>\n",
              "    <tr>\n",
              "      <th>0</th>\n",
              "      <td>19</td>\n",
              "      <td>19000</td>\n",
              "      <td>0</td>\n",
              "    </tr>\n",
              "    <tr>\n",
              "      <th>1</th>\n",
              "      <td>35</td>\n",
              "      <td>20000</td>\n",
              "      <td>0</td>\n",
              "    </tr>\n",
              "    <tr>\n",
              "      <th>2</th>\n",
              "      <td>26</td>\n",
              "      <td>43000</td>\n",
              "      <td>0</td>\n",
              "    </tr>\n",
              "    <tr>\n",
              "      <th>3</th>\n",
              "      <td>27</td>\n",
              "      <td>57000</td>\n",
              "      <td>0</td>\n",
              "    </tr>\n",
              "    <tr>\n",
              "      <th>4</th>\n",
              "      <td>19</td>\n",
              "      <td>76000</td>\n",
              "      <td>0</td>\n",
              "    </tr>\n",
              "  </tbody>\n",
              "</table>\n",
              "</div>\n",
              "      <button class=\"colab-df-convert\" onclick=\"convertToInteractive('df-606343e8-b219-4747-afd4-72071890ec1f')\"\n",
              "              title=\"Convert this dataframe to an interactive table.\"\n",
              "              style=\"display:none;\">\n",
              "        \n",
              "  <svg xmlns=\"http://www.w3.org/2000/svg\" height=\"24px\"viewBox=\"0 0 24 24\"\n",
              "       width=\"24px\">\n",
              "    <path d=\"M0 0h24v24H0V0z\" fill=\"none\"/>\n",
              "    <path d=\"M18.56 5.44l.94 2.06.94-2.06 2.06-.94-2.06-.94-.94-2.06-.94 2.06-2.06.94zm-11 1L8.5 8.5l.94-2.06 2.06-.94-2.06-.94L8.5 2.5l-.94 2.06-2.06.94zm10 10l.94 2.06.94-2.06 2.06-.94-2.06-.94-.94-2.06-.94 2.06-2.06.94z\"/><path d=\"M17.41 7.96l-1.37-1.37c-.4-.4-.92-.59-1.43-.59-.52 0-1.04.2-1.43.59L10.3 9.45l-7.72 7.72c-.78.78-.78 2.05 0 2.83L4 21.41c.39.39.9.59 1.41.59.51 0 1.02-.2 1.41-.59l7.78-7.78 2.81-2.81c.8-.78.8-2.07 0-2.86zM5.41 20L4 18.59l7.72-7.72 1.47 1.35L5.41 20z\"/>\n",
              "  </svg>\n",
              "      </button>\n",
              "      \n",
              "  <style>\n",
              "    .colab-df-container {\n",
              "      display:flex;\n",
              "      flex-wrap:wrap;\n",
              "      gap: 12px;\n",
              "    }\n",
              "\n",
              "    .colab-df-convert {\n",
              "      background-color: #E8F0FE;\n",
              "      border: none;\n",
              "      border-radius: 50%;\n",
              "      cursor: pointer;\n",
              "      display: none;\n",
              "      fill: #1967D2;\n",
              "      height: 32px;\n",
              "      padding: 0 0 0 0;\n",
              "      width: 32px;\n",
              "    }\n",
              "\n",
              "    .colab-df-convert:hover {\n",
              "      background-color: #E2EBFA;\n",
              "      box-shadow: 0px 1px 2px rgba(60, 64, 67, 0.3), 0px 1px 3px 1px rgba(60, 64, 67, 0.15);\n",
              "      fill: #174EA6;\n",
              "    }\n",
              "\n",
              "    [theme=dark] .colab-df-convert {\n",
              "      background-color: #3B4455;\n",
              "      fill: #D2E3FC;\n",
              "    }\n",
              "\n",
              "    [theme=dark] .colab-df-convert:hover {\n",
              "      background-color: #434B5C;\n",
              "      box-shadow: 0px 1px 3px 1px rgba(0, 0, 0, 0.15);\n",
              "      filter: drop-shadow(0px 1px 2px rgba(0, 0, 0, 0.3));\n",
              "      fill: #FFFFFF;\n",
              "    }\n",
              "  </style>\n",
              "\n",
              "      <script>\n",
              "        const buttonEl =\n",
              "          document.querySelector('#df-606343e8-b219-4747-afd4-72071890ec1f button.colab-df-convert');\n",
              "        buttonEl.style.display =\n",
              "          google.colab.kernel.accessAllowed ? 'block' : 'none';\n",
              "\n",
              "        async function convertToInteractive(key) {\n",
              "          const element = document.querySelector('#df-606343e8-b219-4747-afd4-72071890ec1f');\n",
              "          const dataTable =\n",
              "            await google.colab.kernel.invokeFunction('convertToInteractive',\n",
              "                                                     [key], {});\n",
              "          if (!dataTable) return;\n",
              "\n",
              "          const docLinkHtml = 'Like what you see? Visit the ' +\n",
              "            '<a target=\"_blank\" href=https://colab.research.google.com/notebooks/data_table.ipynb>data table notebook</a>'\n",
              "            + ' to learn more about interactive tables.';\n",
              "          element.innerHTML = '';\n",
              "          dataTable['output_type'] = 'display_data';\n",
              "          await google.colab.output.renderOutput(dataTable, element);\n",
              "          const docLink = document.createElement('div');\n",
              "          docLink.innerHTML = docLinkHtml;\n",
              "          element.appendChild(docLink);\n",
              "        }\n",
              "      </script>\n",
              "    </div>\n",
              "  </div>\n",
              "  "
            ]
          },
          "metadata": {},
          "execution_count": 2
        }
      ]
    },
    {
      "cell_type": "markdown",
      "source": [
        "# Feature Selection"
      ],
      "metadata": {
        "id": "RD6EmW1kD6bZ"
      }
    },
    {
      "cell_type": "code",
      "source": [
        "x = df[['Age','EstimatedSalary']]\n",
        "y = df[['Purchased']]"
      ],
      "metadata": {
        "id": "3utqObZmj8pJ"
      },
      "execution_count": null,
      "outputs": []
    },
    {
      "cell_type": "markdown",
      "source": [
        "# Splitting Train and Test Dataset"
      ],
      "metadata": {
        "id": "kpWrUbUGD9c7"
      }
    },
    {
      "cell_type": "code",
      "source": [
        "from sklearn.model_selection import train_test_split\n",
        "X_train,X_test,Y_train,Y_test = train_test_split(x,y,test_size=0.2)"
      ],
      "metadata": {
        "id": "5dzymJD1if1t"
      },
      "execution_count": null,
      "outputs": []
    },
    {
      "cell_type": "markdown",
      "source": [
        "# Normal Dist per Feature"
      ],
      "metadata": {
        "id": "hTlke1T1ECis"
      }
    },
    {
      "cell_type": "code",
      "source": [
        "sns.distplot(df[['Age']])\n",
        "plt.show()"
      ],
      "metadata": {
        "colab": {
          "base_uri": "https://localhost:8080/",
          "height": 265
        },
        "id": "ODg0zx3ClUjI",
        "outputId": "37742839-e664-4b11-8df6-c365502ac704"
      },
      "execution_count": null,
      "outputs": [
        {
          "output_type": "display_data",
          "data": {
            "text/plain": [
              "<Figure size 432x288 with 1 Axes>"
            ],
            "image/png": "[encoded data removed]"
          },
          "metadata": {
            "needs_background": "light"
          }
        }
      ]
    },
    {
      "cell_type": "code",
      "source": [
        "sns.distplot(df[['EstimatedSalary']])\n",
        "plt.show()"
      ],
      "metadata": {
        "colab": {
          "base_uri": "https://localhost:8080/",
          "height": 276
        },
        "id": "2NrsG9BP2-8m",
        "outputId": "deec190c-e4ac-4309-e990-160afdbdbcd4"
      },
      "execution_count": null,
      "outputs": [
        {
          "output_type": "display_data",
          "data": {
            "text/plain": [
              "<Figure size 432x288 with 1 Axes>"
            ],
            "image/png": "[encoded data removed]"
          },
          "metadata": {
            "needs_background": "light"
          }
        }
      ]
    },
    {
      "cell_type": "markdown",
      "source": [
        "## X_train before normalized"
      ],
      "metadata": {
        "id": "_sUiHjtoDul8"
      }
    },
    {
      "cell_type": "code",
      "source": [
        "sns.distplot(X_train)\n",
        "plt.show()"
      ],
      "metadata": {
        "colab": {
          "base_uri": "https://localhost:8080/",
          "height": 276
        },
        "id": "TY2vkfobCD1X",
        "outputId": "bd4f09a8-c9a2-4e65-d435-2ef9daf451e0"
      },
      "execution_count": null,
      "outputs": [
        {
          "output_type": "display_data",
          "data": {
            "text/plain": [
              "<Figure size 432x288 with 1 Axes>"
            ],
            "image/png": "[encoded data removed]"
          },
          "metadata": {
            "needs_background": "light"
          }
        }
      ]
    },
    {
      "cell_type": "markdown",
      "source": [
        "# Normalizing X_train data"
      ],
      "metadata": {
        "id": "dGodSScfDmZb"
      }
    },
    {
      "cell_type": "code",
      "source": [
        "from sklearn.preprocessing import StandardScaler\n",
        "sc=StandardScaler()\n",
        "X_train=sc.fit_transform(X_train)"
      ],
      "metadata": {
        "id": "tlyzp__9_iB1"
      },
      "execution_count": null,
      "outputs": []
    },
    {
      "cell_type": "code",
      "source": [
        "from sklearn.preprocessing import StandardScaler\n",
        "sc=StandardScaler()\n",
        "X_test=sc.fit_transform(X_test)"
      ],
      "metadata": {
        "id": "ZmR0LCaMaw8b"
      },
      "execution_count": null,
      "outputs": []
    },
    {
      "cell_type": "code",
      "source": [
        "sns.distplot(X_train)\n",
        "plt.show()"
      ],
      "metadata": {
        "colab": {
          "base_uri": "https://localhost:8080/",
          "height": 265
        },
        "id": "pOEpEBFCDKwv",
        "outputId": "4c336108-791c-46aa-e963-7259d33ab5cb"
      },
      "execution_count": null,
      "outputs": [
        {
          "output_type": "display_data",
          "data": {
            "text/plain": [
              "<Figure size 432x288 with 1 Axes>"
            ],
            "image/png": "[encoded data removed]"
          },
          "metadata": {
            "needs_background": "light"
          }
        }
      ]
    },
    {
      "cell_type": "code",
      "source": [
        "print(X_train)"
      ],
      "metadata": {
        "colab": {
          "base_uri": "https://localhost:8080/"
        },
        "id": "nWWJuqA_dGx1",
        "outputId": "0a237903-d750-4feb-bfcd-ed2e870f9f30"
      },
      "execution_count": null,
      "outputs": [
        {
          "output_type": "stream",
          "name": "stdout",
          "text": [
            "[[ 0.11003634  0.01177884]\n",
            " [-0.2625735   0.50467795]\n",
            " [ 1.04156094 -0.16218555]\n",
            " [ 1.87993308  2.12834561]\n",
            " [-0.82148825 -0.68407873]\n",
            " [-0.82148825 -0.27816181]\n",
            " [-0.07626858 -0.45212621]\n",
            " [-0.2625735  -0.27816181]\n",
            " [-0.07626858  0.09876103]\n",
            " [-0.16942104 -0.30715588]\n",
            " [-0.35572596 -0.80005499]\n",
            " [-0.72833579  0.24373136]\n",
            " [-0.16942104  1.37449991]\n",
            " [-0.2625735   0.01177884]\n",
            " [ 0.48264618  1.69343463]\n",
            " [-0.44887842  1.22952958]\n",
            " [ 1.1347134  -0.77106092]\n",
            " [-0.54203087  1.86739902]\n",
            " [-1.10094563  0.0407729 ]\n",
            " [-0.82148825  0.1277551 ]\n",
            " [ 1.41417078  0.33071356]\n",
            " [-0.72833579  0.47568388]\n",
            " [ 0.76210356 -0.85804312]\n",
            " [-0.82148825 -1.23496597]\n",
            " [-0.16942104  1.60645243]\n",
            " [-0.91464071 -1.11898971]\n",
            " [ 0.38949372  0.1277551 ]\n",
            " [-0.2625735  -0.36514401]\n",
            " [-1.10094563  0.44668982]\n",
            " [-0.54203087  1.34550584]\n",
            " [ 1.32101832  0.56266608]\n",
            " [ 1.04156094 -1.23496597]\n",
            " [-1.10094563  1.37449991]\n",
            " [-0.63518333  1.37449991]\n",
            " [-0.16942104 -0.48112027]\n",
            " [-0.16942104  0.82361267]\n",
            " [-0.2625735  -1.26396003]\n",
            " [-0.44887842 -0.30715588]\n",
            " [-1.56670793  0.50467795]\n",
            " [ 0.11003634  1.83840495]\n",
            " [ 1.41417078  2.09935154]\n",
            " [ 0.94840848 -0.85804312]\n",
            " [-1.00779317  0.50467795]\n",
            " [ 0.11003634  0.18574323]\n",
            " [-1.47355547 -1.26396003]\n",
            " [-1.10094563 -1.61188882]\n",
            " [ 0.11003634 -0.82904905]\n",
            " [-0.44887842 -0.85804312]\n",
            " [ 0.85525602 -0.68407873]\n",
            " [-0.2625735  -1.46691849]\n",
            " [ 0.29634126  0.0407729 ]\n",
            " [ 0.29634126 -0.56810247]\n",
            " [-1.65986039  0.09876103]\n",
            " [-0.63518333  0.53367201]\n",
            " [ 1.41417078  0.96858299]\n",
            " [-0.35572596 -1.32194817]\n",
            " [-1.84616531 -0.77106092]\n",
            " [ 0.57579864  1.98337528]\n",
            " [ 0.2031888   0.01177884]\n",
            " [-0.35572596  1.20053552]\n",
            " [ 0.29634126 -0.5391084 ]\n",
            " [-0.2625735   0.24373136]\n",
            " [ 0.01688388 -0.56810247]\n",
            " [-0.2625735   0.76562454]\n",
            " [ 1.97308554  2.09935154]\n",
            " [ 0.38949372  0.56266608]\n",
            " [ 0.85525602  1.22952958]\n",
            " [ 0.11003634  0.1277551 ]\n",
            " [ 2.066238    0.91059486]\n",
            " [ 0.01688388  0.01177884]\n",
            " [-1.47355547 -0.45212621]\n",
            " [-0.2625735  -0.59709653]\n",
            " [ 0.85525602 -1.06100158]\n",
            " [ 0.38949372 -0.01721523]\n",
            " [-0.2625735  -0.94502532]\n",
            " [ 1.04156094  0.09876103]\n",
            " [ 0.01688388  0.27272543]\n",
            " [ 0.94840848  0.56266608]\n",
            " [-0.54203087  2.30231   ]\n",
            " [-1.00779317 -0.36514401]\n",
            " [ 0.29634126  0.0407729 ]\n",
            " [-1.00779317 -0.48112027]\n",
            " [-0.16942104  0.1277551 ]\n",
            " [ 1.6004757  -0.91603125]\n",
            " [-0.16942104  2.12834561]\n",
            " [ 0.2031888  -0.39413808]\n",
            " [-0.07626858  0.01177884]\n",
            " [ 1.78678062 -1.2929541 ]\n",
            " [ 1.78678062  1.49047617]\n",
            " [-0.07626858  0.27272543]\n",
            " [ 0.85525602 -0.80005499]\n",
            " [ 0.94840848  1.75142276]\n",
            " [-0.07626858  2.18633374]\n",
            " [-0.91464071  0.41769575]\n",
            " [ 1.50732324 -1.2929541 ]\n",
            " [ 1.32101832 -0.94502532]\n",
            " [-0.07626858 -0.51011434]\n",
            " [-0.2625735  -0.51011434]\n",
            " [-0.63518333  0.01177884]\n",
            " [-1.28725055 -1.11898971]\n",
            " [ 1.41417078  0.0407729 ]\n",
            " [ 0.2031888   2.07035748]\n",
            " [ 0.11003634  1.83840495]\n",
            " [-0.63518333 -1.61188882]\n",
            " [-1.56670793 -0.07520336]\n",
            " [-1.84616531 -0.07520336]\n",
            " [-0.44887842 -0.56810247]\n",
            " [-1.00779317  0.38870169]\n",
            " [-1.19409809  0.27272543]\n",
            " [-0.2625735   0.0407729 ]\n",
            " [ 1.32101832  1.95438121]\n",
            " [ 1.1347134  -1.46691849]\n",
            " [-0.44887842  2.27331593]\n",
            " [ 1.97308554 -0.82904905]\n",
            " [ 0.76210356 -0.33614994]\n",
            " [-1.28725055 -0.36514401]\n",
            " [ 1.69362816 -0.30715588]\n",
            " [ 0.11003634  0.24373136]\n",
            " [ 0.2031888   0.1277551 ]\n",
            " [-0.16942104 -0.59709653]\n",
            " [ 0.38949372  0.27272543]\n",
            " [ 1.97308554  1.72242869]\n",
            " [-0.35572596  1.28751771]\n",
            " [-1.10094563 -1.17697784]\n",
            " [ 0.6689511   1.75142276]\n",
            " [-0.2625735  -0.30715588]\n",
            " [-1.19409809  0.56266608]\n",
            " [-1.19409809 -1.08999564]\n",
            " [-0.2625735  -0.59709653]\n",
            " [-0.91464071  0.47568388]\n",
            " [-0.63518333 -0.07520336]\n",
            " [-1.28725055 -0.45212621]\n",
            " [ 0.94840848 -1.2059719 ]\n",
            " [-0.2625735   0.1277551 ]\n",
            " [ 0.38949372  0.24373136]\n",
            " [ 0.94840848  1.40349397]\n",
            " [-0.35572596 -0.80005499]\n",
            " [-1.65986039 -0.6260906 ]\n",
            " [-1.65986039  0.44668982]\n",
            " [ 0.11003634 -0.27816181]\n",
            " [-0.2625735   1.08455926]\n",
            " [ 0.11003634  0.01177884]\n",
            " [ 0.2031888  -0.30715588]\n",
            " [-1.65986039 -1.3799363 ]\n",
            " [-0.91464071  0.24373136]\n",
            " [-1.10094563 -1.58289475]\n",
            " [ 0.76210356 -1.11898971]\n",
            " [ 0.94840848  0.09876103]\n",
            " [-0.16942104  1.57745837]\n",
            " [-0.07626858 -0.24916775]\n",
            " [-0.82148825 -0.80005499]\n",
            " [-0.72833579  0.53367201]\n",
            " [-0.72833579  1.86739902]\n",
            " [-1.38040301 -0.65508466]\n",
            " [ 2.066238    0.35970762]\n",
            " [ 0.76210356 -1.40893036]\n",
            " [-1.10094563 -0.5391084 ]\n",
            " [ 1.6004757   1.57745837]\n",
            " [-0.91464071 -0.77106092]\n",
            " [ 1.04156094  0.53367201]\n",
            " [-1.75301285 -0.01721523]\n",
            " [ 0.11003634 -0.82904905]\n",
            " [ 0.85525602 -1.3799363 ]\n",
            " [ 1.87993308 -0.94502532]\n",
            " [-0.07626858 -0.01721523]\n",
            " [-1.47355547 -0.22017368]\n",
            " [-0.63518333 -1.52490662]\n",
            " [ 0.01688388 -0.16218555]\n",
            " [ 0.38949372 -0.48112027]\n",
            " [-1.75301285 -1.49591256]\n",
            " [-0.54203087 -1.52490662]\n",
            " [ 1.22786586  1.83840495]\n",
            " [-1.28725055 -1.49591256]\n",
            " [-1.00779317 -1.14798377]\n",
            " [ 0.2031888   1.05556519]\n",
            " [-1.65986039  0.33071356]\n",
            " [-0.07626858  2.12834561]\n",
            " [ 0.2031888   0.1277551 ]\n",
            " [ 0.85525602 -0.56810247]\n",
            " [ 0.29634126  0.01177884]\n",
            " [-1.38040301 -0.22017368]\n",
            " [ 0.6689511  -1.40893036]\n",
            " [-0.72833579 -1.61188882]\n",
            " [ 0.01688388  1.20053552]\n",
            " [ 1.6004757   1.72242869]\n",
            " [-0.91464071 -0.33614994]\n",
            " [-1.65986039 -1.00301345]\n",
            " [-0.63518333  0.09876103]\n",
            " [-0.07626858 -1.08999564]\n",
            " [-0.16942104 -1.08999564]\n",
            " [-1.75301285 -1.2929541 ]\n",
            " [-0.2625735  -0.45212621]\n",
            " [ 1.87993308 -1.3799363 ]\n",
            " [-0.91464071  1.51947024]\n",
            " [-0.63518333 -0.13319149]\n",
            " [-1.10094563 -1.55390069]\n",
            " [ 0.29634126 -0.22017368]\n",
            " [-1.00779317 -0.39413808]\n",
            " [ 0.11003634 -0.33614994]\n",
            " [-1.47355547 -1.52490662]\n",
            " [ 2.066238   -0.82904905]\n",
            " [-0.72833579 -0.6260906 ]\n",
            " [ 0.38949372  0.06976697]\n",
            " [-1.84616531  0.44668982]\n",
            " [ 0.76210356  0.33071356]\n",
            " [ 0.01688388 -0.33614994]\n",
            " [ 1.04156094  2.04136341]\n",
            " [ 1.04156094 -0.91603125]\n",
            " [ 0.94840848  1.83840495]\n",
            " [ 0.29634126  0.24373136]\n",
            " [ 2.066238   -1.06100158]\n",
            " [-1.56670793  0.0407729 ]\n",
            " [ 0.29634126  0.0407729 ]\n",
            " [ 0.85525602 -0.59709653]\n",
            " [ 0.6689511  -1.11898971]\n",
            " [ 0.38949372  1.08455926]\n",
            " [ 0.38949372 -0.48112027]\n",
            " [-0.82148825  0.35970762]\n",
            " [-0.2625735   0.18574323]\n",
            " [-0.91464071 -0.45212621]\n",
            " [-1.38040301  0.33071356]\n",
            " [ 0.2031888   0.0407729 ]\n",
            " [-1.10094563 -1.03200751]\n",
            " [ 0.11003634  1.02657112]\n",
            " [-0.2625735  -0.16218555]\n",
            " [ 0.57579864 -0.91603125]\n",
            " [-1.19409809  0.47568388]\n",
            " [ 0.29634126 -0.30715588]\n",
            " [ 0.85525602 -1.32194817]\n",
            " [ 0.11003634  0.73663047]\n",
            " [ 0.01688388  0.01177884]\n",
            " [-0.54203087  1.43248804]\n",
            " [-1.10094563  0.38870169]\n",
            " [-0.2625735  -1.40893036]\n",
            " [-0.2625735  -0.68407873]\n",
            " [-1.65986039  0.33071356]\n",
            " [ 0.85525602  1.05556519]\n",
            " [ 0.38949372  0.96858299]\n",
            " [ 0.2031888  -0.39413808]\n",
            " [ 0.6689511  -1.40893036]\n",
            " [ 0.01688388 -0.59709653]\n",
            " [ 0.76210356  0.50467795]\n",
            " [-1.00779317  1.92538715]\n",
            " [ 0.85525602 -1.17697784]\n",
            " [ 1.32101832 -1.43792443]\n",
            " [ 0.29634126  0.47568388]\n",
            " [ 1.87993308  0.70763641]\n",
            " [-0.2625735  -0.39413808]\n",
            " [ 0.94840848 -1.08999564]\n",
            " [ 0.6689511   0.24373136]\n",
            " [-1.56670793 -1.58289475]\n",
            " [-0.72833579  0.27272543]\n",
            " [ 0.85525602 -0.6260906 ]\n",
            " [-0.2625735   0.06976697]\n",
            " [-0.07626858  0.2147373 ]\n",
            " [ 0.85525602 -1.46691849]\n",
            " [-0.07626858  0.1277551 ]\n",
            " [-0.82148825  2.24432187]\n",
            " [ 0.76210356 -1.23496597]\n",
            " [ 1.69362816  1.80941089]\n",
            " [ 1.50732324 -0.01721523]\n",
            " [-1.00779317  0.73663047]\n",
            " [ 1.97308554  0.50467795]\n",
            " [ 0.38949372  2.27331593]\n",
            " [ 1.87993308 -0.68407873]\n",
            " [-1.47355547  0.30171949]\n",
            " [-0.2625735   0.0407729 ]\n",
            " [-1.00779317 -1.55390069]\n",
            " [ 1.22786586 -1.3799363 ]\n",
            " [-0.44887842 -0.80005499]\n",
            " [ 0.38949372 -0.16218555]\n",
            " [-0.72833579  1.31651178]\n",
            " [ 0.01688388 -0.27816181]\n",
            " [ 1.04156094  0.50467795]\n",
            " [-0.91464071  0.53367201]\n",
            " [ 0.01688388 -0.27816181]\n",
            " [-0.2625735   2.2153278 ]\n",
            " [ 1.04156094 -1.00301345]\n",
            " [-1.19409809  0.24373136]\n",
            " [-0.07626858  1.92538715]\n",
            " [ 0.2031888  -0.33614994]\n",
            " [-0.2625735  -1.3799363 ]\n",
            " [-0.63518333 -1.06100158]\n",
            " [-1.28725055 -1.26396003]\n",
            " [-1.00779317  0.53367201]\n",
            " [ 0.29634126 -0.74206686]\n",
            " [ 2.066238   -0.71307279]\n",
            " [-1.10094563  0.27272543]\n",
            " [-1.00779317 -1.46691849]\n",
            " [-1.00779317  0.56266608]\n",
            " [ 1.87993308  0.8816008 ]\n",
            " [-0.07626858 -0.5391084 ]\n",
            " [ 0.94840848  1.95438121]\n",
            " [ 1.69362816  0.96858299]\n",
            " [-1.84616531 -0.5391084 ]\n",
            " [-1.38040301 -0.13319149]\n",
            " [-1.84616531  0.33071356]\n",
            " [ 0.76210356 -1.3799363 ]\n",
            " [-0.07626858  0.18574323]\n",
            " [-1.75301285 -1.32194817]\n",
            " [ 0.76210356  1.34550584]\n",
            " [ 1.97308554 -1.2059719 ]\n",
            " [-1.28725055  0.53367201]\n",
            " [ 1.78678062 -0.30715588]\n",
            " [-0.07626858  0.27272543]\n",
            " [ 1.97308554  0.35970762]\n",
            " [ 2.066238    1.08455926]\n",
            " [-1.10094563 -0.80005499]\n",
            " [ 0.85525602  0.99757706]\n",
            " [-0.16942104 -0.5391084 ]\n",
            " [ 0.38949372 -0.51011434]\n",
            " [ 1.78678062  0.09876103]\n",
            " [ 1.78678062 -1.08999564]\n",
            " [-1.10094563  0.30171949]\n",
            " [ 1.04156094 -1.23496597]\n",
            " [ 0.29634126 -0.5391084 ]\n",
            " [ 1.22786586  2.18633374]\n",
            " [ 1.97308554  0.15674917]\n",
            " [ 0.01688388  1.22952958]\n",
            " [ 0.38949372  0.27272543]]\n"
          ]
        }
      ]
    },
    {
      "cell_type": "code",
      "source": [
        "from sklearn.linear_model import LogisticRegression\n",
        "reg = LogisticRegression(random_state=0)\n",
        "reg.fit(X_train,Y_train)"
      ],
      "metadata": {
        "colab": {
          "base_uri": "https://localhost:8080/",
          "height": 75
        },
        "id": "xk2fTk7odKyt",
        "outputId": "64434363-49a0-4938-af56-23f2420b0830"
      },
      "execution_count": null,
      "outputs": [
        {
          "output_type": "execute_result",
          "data": {
            "text/plain": [
              "LogisticRegression(random_state=0)"
            ],
            "text/html": [
              "<style>#sk-container-id-1 {color: black;background-color: white;}#sk-container-id-1 pre{padding: 0;}#sk-container-id-1 div.sk-toggleable {background-color: white;}#sk-container-id-1 label.sk-toggleable__label {cursor: pointer;display: block;width: 100%;margin-bottom: 0;padding: 0.3em;box-sizing: border-box;text-align: center;}#sk-container-id-1 label.sk-toggleable__label-arrow:before {content: \"▸\";float: left;margin-right: 0.25em;color: #696969;}#sk-container-id-1 label.sk-toggleable__label-arrow:hover:before {color: black;}#sk-container-id-1 div.sk-estimator:hover label.sk-toggleable__label-arrow:before {color: black;}#sk-container-id-1 div.sk-toggleable__content {max-height: 0;max-width: 0;overflow: hidden;text-align: left;background-color: #f0f8ff;}#sk-container-id-1 div.sk-toggleable__content pre {margin: 0.2em;color: black;border-radius: 0.25em;background-color: #f0f8ff;}#sk-container-id-1 input.sk-toggleable__control:checked~div.sk-toggleable__content {max-height: 200px;max-width: 100%;overflow: auto;}#sk-container-id-1 input.sk-toggleable__control:checked~label.sk-toggleable__label-arrow:before {content: \"▾\";}#sk-container-id-1 div.sk-estimator input.sk-toggleable__control:checked~label.sk-toggleable__label {background-color: #d4ebff;}#sk-container-id-1 div.sk-label input.sk-toggleable__control:checked~label.sk-toggleable__label {background-color: #d4ebff;}#sk-container-id-1 input.sk-hidden--visually {border: 0;clip: rect(1px 1px 1px 1px);clip: rect(1px, 1px, 1px, 1px);height: 1px;margin: -1px;overflow: hidden;padding: 0;position: absolute;width: 1px;}#sk-container-id-1 div.sk-estimator {font-family: monospace;background-color: #f0f8ff;border: 1px dotted black;border-radius: 0.25em;box-sizing: border-box;margin-bottom: 0.5em;}#sk-container-id-1 div.sk-estimator:hover {background-color: #d4ebff;}#sk-container-id-1 div.sk-parallel-item::after {content: \"\";width: 100%;border-bottom: 1px solid gray;flex-grow: 1;}#sk-container-id-1 div.sk-label:hover label.sk-toggleable__label {background-color: #d4ebff;}#sk-container-id-1 div.sk-serial::before {content: \"\";position: absolute;border-left: 1px solid gray;box-sizing: border-box;top: 0;bottom: 0;left: 50%;z-index: 0;}#sk-container-id-1 div.sk-serial {display: flex;flex-direction: column;align-items: center;background-color: white;padding-right: 0.2em;padding-left: 0.2em;position: relative;}#sk-container-id-1 div.sk-item {position: relative;z-index: 1;}#sk-container-id-1 div.sk-parallel {display: flex;align-items: stretch;justify-content: center;background-color: white;position: relative;}#sk-container-id-1 div.sk-item::before, #sk-container-id-1 div.sk-parallel-item::before {content: \"\";position: absolute;border-left: 1px solid gray;box-sizing: border-box;top: 0;bottom: 0;left: 50%;z-index: -1;}#sk-container-id-1 div.sk-parallel-item {display: flex;flex-direction: column;z-index: 1;position: relative;background-color: white;}#sk-container-id-1 div.sk-parallel-item:first-child::after {align-self: flex-end;width: 50%;}#sk-container-id-1 div.sk-parallel-item:last-child::after {align-self: flex-start;width: 50%;}#sk-container-id-1 div.sk-parallel-item:only-child::after {width: 0;}#sk-container-id-1 div.sk-dashed-wrapped {border: 1px dashed gray;margin: 0 0.4em 0.5em 0.4em;box-sizing: border-box;padding-bottom: 0.4em;background-color: white;}#sk-container-id-1 div.sk-label label {font-family: monospace;font-weight: bold;display: inline-block;line-height: 1.2em;}#sk-container-id-1 div.sk-label-container {text-align: center;}#sk-container-id-1 div.sk-container {/* jupyter's `normalize.less` sets `[hidden] { display: none; }` but bootstrap.min.css set `[hidden] { display: none !important; }` so we also need the `!important` here to be able to override the default hidden behavior on the sphinx rendered scikit-learn.org. See: https://github.com/scikit-learn/scikit-learn/issues/21755 */display: inline-block !important;position: relative;}#sk-container-id-1 div.sk-text-repr-fallback {display: none;}</style><div id=\"sk-container-id-1\" class=\"sk-top-container\"><div class=\"sk-text-repr-fallback\"><pre>LogisticRegression(random_state=0)</pre><b>In a Jupyter environment, please rerun this cell to show the HTML representation or trust the notebook. <br />On GitHub, the HTML representation is unable to render, please try loading this page with nbviewer.org.</b></div><div class=\"sk-container\" hidden><div class=\"sk-item\"><div class=\"sk-estimator sk-toggleable\"><input class=\"sk-toggleable__control sk-hidden--visually\" id=\"sk-estimator-id-1\" type=\"checkbox\" checked><label for=\"sk-estimator-id-1\" class=\"sk-toggleable__label sk-toggleable__label-arrow\">LogisticRegression</label><div class=\"sk-toggleable__content\"><pre>LogisticRegression(random_state=0)</pre></div></div></div></div></div>"
            ]
          },
          "metadata": {},
          "execution_count": 12
        }
      ]
    },
    {
      "cell_type": "code",
      "source": [
        "Y_pred = reg.predict(X_test)"
      ],
      "metadata": {
        "id": "L8TfdGCuhzoj"
      },
      "execution_count": null,
      "outputs": []
    },
    {
      "cell_type": "code",
      "source": [
        "print(np.concatenate((Y_pred.reshape(len(Y_pred),1),np.array(Y_test).reshape(len(Y_test),1)),1))"
      ],
      "metadata": {
        "colab": {
          "base_uri": "https://localhost:8080/"
        },
        "id": "Q23B4ljFnlpW",
        "outputId": "792becc7-795e-4df1-c93c-a5d29d441246"
      },
      "execution_count": null,
      "outputs": [
        {
          "output_type": "stream",
          "name": "stdout",
          "text": [
            "[[0 0]\n",
            " [0 1]\n",
            " [0 0]\n",
            " [0 0]\n",
            " [1 1]\n",
            " [0 1]\n",
            " [1 1]\n",
            " [0 0]\n",
            " [1 1]\n",
            " [0 0]\n",
            " [1 1]\n",
            " [0 0]\n",
            " [0 0]\n",
            " [0 0]\n",
            " [0 1]\n",
            " [0 0]\n",
            " [0 0]\n",
            " [1 0]\n",
            " [0 0]\n",
            " [1 0]\n",
            " [0 0]\n",
            " [0 0]\n",
            " [1 1]\n",
            " [0 0]\n",
            " [1 1]\n",
            " [0 0]\n",
            " [0 0]\n",
            " [1 1]\n",
            " [0 0]\n",
            " [0 0]\n",
            " [0 0]\n",
            " [1 1]\n",
            " [0 0]\n",
            " [1 1]\n",
            " [0 0]\n",
            " [0 0]\n",
            " [0 0]\n",
            " [1 1]\n",
            " [1 1]\n",
            " [1 0]\n",
            " [0 1]\n",
            " [0 0]\n",
            " [0 0]\n",
            " [0 0]\n",
            " [0 0]\n",
            " [0 1]\n",
            " [0 0]\n",
            " [1 1]\n",
            " [1 1]\n",
            " [0 0]\n",
            " [0 0]\n",
            " [0 0]\n",
            " [0 0]\n",
            " [0 0]\n",
            " [0 0]\n",
            " [0 0]\n",
            " [0 0]\n",
            " [0 0]\n",
            " [0 0]\n",
            " [1 1]\n",
            " [0 0]\n",
            " [1 1]\n",
            " [1 0]\n",
            " [1 0]\n",
            " [1 1]\n",
            " [0 0]\n",
            " [1 1]\n",
            " [1 0]\n",
            " [0 0]\n",
            " [0 0]\n",
            " [0 0]\n",
            " [0 0]\n",
            " [1 1]\n",
            " [1 0]\n",
            " [1 0]\n",
            " [1 0]\n",
            " [1 0]\n",
            " [0 0]\n",
            " [0 0]\n",
            " [0 0]]\n"
          ]
        }
      ]
    },
    {
      "cell_type": "markdown",
      "source": [
        "# Making Confusion Matrix Using Heatmap\n",
        "\n"
      ],
      "metadata": {
        "id": "LOH-aejbFilu"
      }
    },
    {
      "cell_type": "code",
      "source": [
        "from sklearn.metrics import confusion_matrix,accuracy_score\n",
        "confusion_matrix = confusion_matrix(Y_test,Y_pred,normalize='true')"
      ],
      "metadata": {
        "id": "I_8FbNt3JVb5"
      },
      "execution_count": null,
      "outputs": []
    },
    {
      "cell_type": "code",
      "source": [
        "sns.heatmap(confusion_matrix,annot=True)"
      ],
      "metadata": {
        "colab": {
          "base_uri": "https://localhost:8080/",
          "height": 282
        },
        "id": "drZBTe6HH4k-",
        "outputId": "1a32538c-065a-42b0-dca2-67d791e1621b"
      },
      "execution_count": null,
      "outputs": [
        {
          "output_type": "execute_result",
          "data": {
            "text/plain": [
              "<AxesSubplot:>"
            ]
          },
          "metadata": {},
          "execution_count": 28
        },
        {
          "output_type": "display_data",
          "data": {
            "text/plain": [
              "<Figure size 432x288 with 2 Axes>"
            ],
            "image/png": "[encoded data removed]"
          },
          "metadata": {
            "needs_background": "light"
          }
        }
      ]
    },
    {
      "cell_type": "code",
      "source": [
        "accuracy_score(Y_test,Y_pred)"
      ],
      "metadata": {
        "colab": {
          "base_uri": "https://localhost:8080/"
        },
        "id": "U2ntRac3IC9n",
        "outputId": "52a66f06-a045-444d-cbd8-1bd7becf049e"
      },
      "execution_count": null,
      "outputs": [
        {
          "output_type": "execute_result",
          "data": {
            "text/plain": [
              "0.8125"
            ]
          },
          "metadata": {},
          "execution_count": 29
        }
      ]
    }
  ]
}